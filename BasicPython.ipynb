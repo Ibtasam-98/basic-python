{
  "nbformat": 4,
  "nbformat_minor": 0,
  "metadata": {
    "colab": {
      "provenance": [],
      "toc_visible": true,
      "authorship_tag": "ABX9TyOGECRNXTzENfTbIM6KYhTK",
      "include_colab_link": true
    },
    "kernelspec": {
      "name": "python3",
      "display_name": "Python 3"
    },
    "language_info": {
      "name": "python"
    }
  },
  "cells": [
    {
      "cell_type": "markdown",
      "metadata": {
        "id": "view-in-github",
        "colab_type": "text"
      },
      "source": [
        "<a href=\"https://colab.research.google.com/github/Ibtasam-98/basic-python/blob/main/BasicPython.ipynb\" target=\"_parent\"><img src=\"https://colab.research.google.com/assets/colab-badge.svg\" alt=\"Open In Colab\"/></a>"
      ]
    },
    {
      "cell_type": "markdown",
      "source": [],
      "metadata": {
        "id": "068KxaPk3Rgj"
      }
    },
    {
      "cell_type": "markdown",
      "source": [
        "Variable and Integer"
      ],
      "metadata": {
        "id": "AXdgY_yL3Ssm"
      }
    },
    {
      "cell_type": "markdown",
      "source": [
        "Variable and Integers\n"
      ],
      "metadata": {
        "id": "s_p5Tg_a3VDF"
      }
    },
    {
      "cell_type": "markdown",
      "source": [
        "# Variables and Integers"
      ],
      "metadata": {
        "id": "GoqyEpcQ3X69"
      }
    },
    {
      "cell_type": "code",
      "execution_count": 4,
      "metadata": {
        "colab": {
          "base_uri": "https://localhost:8080/"
        },
        "id": "t7RRoaoP3NnH",
        "outputId": "a515e900-08a6-4a6f-bcdf-cecc764d29e3"
      },
      "outputs": [
        {
          "output_type": "stream",
          "name": "stdout",
          "text": [
            "<class 'int'>\n",
            "<class 'float'>\n",
            "<class 'str'>\n",
            "<class 'bool'>\n"
          ]
        }
      ],
      "source": [
        "age = 40\n",
        "price = 2.0\n",
        "name = \"Ibtasam\"\n",
        "is_student = True\n",
        "print(type(age))\n",
        "print(type(price))\n",
        "print(type(name))\n",
        "print(type(is_student))\n"
      ]
    },
    {
      "cell_type": "markdown",
      "source": [
        "# Operators"
      ],
      "metadata": {
        "id": "z19DxBBL3_os"
      }
    },
    {
      "cell_type": "code",
      "source": [
        "x = 5\n",
        "y = 5\n",
        "print(\"Addition : \",x+y)\n",
        "print(\"Subtraction : \",x-y)\n",
        "print(\"Divison : \",x/y)\n",
        "print(\"Multiplication : \",x*y)\n",
        "print(\"Modulus : \",x ** y)\n",
        "print(\"Exponentiation : \",x % y)\n",
        "\n",
        "# Comparison operator\n",
        "if x == y:\n",
        "  print(\"x and y are equal\")\n",
        "else:\n",
        "  print(\"x and y are not equal\")\n",
        "\n"
      ],
      "metadata": {
        "colab": {
          "base_uri": "https://localhost:8080/"
        },
        "id": "Cvv7liHN3bN4",
        "outputId": "f917afd5-68f0-4009-da91-1ded1e55e67d"
      },
      "execution_count": 8,
      "outputs": [
        {
          "output_type": "stream",
          "name": "stdout",
          "text": [
            "Addition :  10\n",
            "Subtraction :  0\n",
            "Divison :  1.0\n",
            "Multiplication :  25\n",
            "Modulus :  3125\n",
            "Exponentiation :  0\n",
            "x and y are equal\n"
          ]
        }
      ]
    },
    {
      "cell_type": "markdown",
      "source": [
        "# Array"
      ],
      "metadata": {
        "id": "3tVNg_xW41qw"
      }
    },
    {
      "cell_type": "code",
      "source": [
        "\n",
        "fruits = [\"Apple\", \"Banana\", \"Orange\"]\n",
        "print(f\"Original Array : {fruits}\")\n",
        "print(f\"Fruit at 1st Array : {fruits[0]}\")\n",
        "\n",
        "# Modifying elements\n",
        "fruits[1] = \"Cherry\"\n",
        "print(f\"Modified list: {fruits}\")\n",
        "\n",
        "# Append element in Array\n",
        "fruits.append(\"Peach\")\n",
        "print(f\"After Append :{fruits}\")\n",
        "\n",
        "# Remove element from Array\n",
        "fruits.remove(\"Apple\")\n",
        "print(f\"After removing: {fruits}\")\n",
        "\n",
        "\n",
        "# Slicing of Array\n",
        "arr = [1,2,3,4,5]\n",
        "print(f\"slice from Index 1 to 3 :{arr[1:4]}\")\n",
        "print(f\"slice from begining :{arr[:2]}\")\n",
        "print(f\"slice from end :{arr[2:]}\")\n",
        "\n",
        "\n",
        "\n",
        "\n",
        "\n"
      ],
      "metadata": {
        "colab": {
          "base_uri": "https://localhost:8080/"
        },
        "id": "gDhQKRDO45a2",
        "outputId": "e41af12e-20f1-47dc-b8f0-ba6e6f8f8578"
      },
      "execution_count": 34,
      "outputs": [
        {
          "output_type": "stream",
          "name": "stdout",
          "text": [
            "Original Array : ['Apple', 'Banana', 'Orange']\n",
            "Fruit at 1st Array : Apple\n",
            "Modified list: ['Apple', 'Cherry', 'Orange']\n",
            "After Append :['Apple', 'Cherry', 'Orange', 'Peach']\n",
            "After removing: ['Cherry', 'Orange', 'Peach']\n",
            "slice from Index 1 to 3 :[2, 3, 4]\n",
            "slice from begining :[1, 2]\n",
            "slice from end :[3, 4, 5]\n"
          ]
        }
      ]
    },
    {
      "cell_type": "markdown",
      "source": [
        "# Dictionaries"
      ],
      "metadata": {
        "id": "DIhqMOpC7lw3"
      }
    },
    {
      "cell_type": "code",
      "source": [
        "person = {\n",
        "    \"name\": \"Bob\",\n",
        "    \"age\": 25,\n",
        "    \"city\": \"New York\"\n",
        "}\n",
        "print(person)\n",
        "\n",
        "\n",
        "# Accesing specific value\n",
        "print(f\"Specific age , {person['age']}\")\n",
        "\n",
        "person['age'] = 40\n",
        "print(f\"Add new age , {person['age']}\")\n",
        "\n",
        "\n",
        "# Add new key value pair\n",
        "person['occupation'] = \"Engineer\"\n",
        "print(person)\n",
        "\n",
        "# Iterating through key\n",
        "print(\"----------------\")\n",
        "\n",
        "print(\"Keys: \")\n",
        "for key in person:\n",
        "  print(person[key])\n",
        "\n",
        "print(\"----------------\")\n",
        "print(\"Values: \")\n",
        "for value in person:\n",
        "  print(person[value])\n",
        "print(\"----------------\")\n",
        "\n",
        "print(\"Key value pair\")\n",
        "for key, value in person.items():\n",
        "  print(f\"{key}, {value}\")\n",
        "print(\"----------------\")\n",
        "\n",
        "\n",
        "\n",
        "\n"
      ],
      "metadata": {
        "colab": {
          "base_uri": "https://localhost:8080/"
        },
        "id": "U5emYl0C7rdL",
        "outputId": "85097112-d253-4dd1-cc3b-490faf185391"
      },
      "execution_count": 53,
      "outputs": [
        {
          "output_type": "stream",
          "name": "stdout",
          "text": [
            "{'name': 'Bob', 'age': 25, 'city': 'New York'}\n",
            "Specific age , 25\n",
            "Add new age , 40\n",
            "{'name': 'Bob', 'age': 40, 'city': 'New York', 'occupation': 'Engineer'}\n",
            "----------------\n",
            "Keys: \n",
            "Bob\n",
            "40\n",
            "New York\n",
            "Engineer\n",
            "----------------\n",
            "Values: \n",
            "Bob\n",
            "40\n",
            "New York\n",
            "Engineer\n",
            "----------------\n",
            "Key value pair\n",
            "name, Bob\n",
            "age, 40\n",
            "city, New York\n",
            "occupation, Engineer\n"
          ]
        }
      ]
    },
    {
      "cell_type": "markdown",
      "source": [
        "# Control Flow"
      ],
      "metadata": {
        "id": "4G2NX4J59dS3"
      }
    },
    {
      "cell_type": "code",
      "source": [
        "score = 50\n",
        "\n",
        "if score >= 80:\n",
        "  print(\"Grade A\")\n",
        "elif score >= 60:\n",
        "  print(\"Grade B\")\n",
        "elif score >= 50:\n",
        "  print(\"Grade C\")\n",
        "elif score >= 45:\n",
        "  print(\"Fail\")\n",
        "\n"
      ],
      "metadata": {
        "colab": {
          "base_uri": "https://localhost:8080/"
        },
        "id": "o2EP4B4K9fBU",
        "outputId": "5aa70fd2-8502-480b-fc39-dbe2fc897b38"
      },
      "execution_count": 56,
      "outputs": [
        {
          "output_type": "stream",
          "name": "stdout",
          "text": [
            "Grade C\n"
          ]
        }
      ]
    },
    {
      "cell_type": "markdown",
      "source": [
        "# Loops"
      ],
      "metadata": {
        "id": "pazb82Pq-QTf"
      }
    },
    {
      "cell_type": "code",
      "source": [
        "colors = [\"red\", \"green\", \"blue\"]\n",
        "\n",
        "for colors in colors:\n",
        "  print(colors)\n",
        "\n",
        "# Iterating by using range\n",
        "for i in range(5):\n",
        "  print(i)\n",
        "\n",
        "\n",
        "# While loop\n",
        "count = 0\n",
        "while count < 5:\n",
        "  print(count)\n",
        "  count += 1\n",
        "\n"
      ],
      "metadata": {
        "colab": {
          "base_uri": "https://localhost:8080/"
        },
        "id": "XMBuZuU--Tgu",
        "outputId": "f08db525-c3fa-44ac-957d-0371fd0a49db"
      },
      "execution_count": 62,
      "outputs": [
        {
          "output_type": "stream",
          "name": "stdout",
          "text": [
            "red\n",
            "green\n",
            "blue\n",
            "0\n",
            "1\n",
            "2\n",
            "3\n",
            "4\n",
            "0\n",
            "1\n",
            "2\n",
            "3\n",
            "4\n"
          ]
        }
      ]
    },
    {
      "cell_type": "markdown",
      "source": [
        "# Functions"
      ],
      "metadata": {
        "id": "4ieLpJNXAbWJ"
      }
    },
    {
      "cell_type": "code",
      "source": [
        "def"
      ],
      "metadata": {
        "id": "vyYwjUckAwiu"
      },
      "execution_count": null,
      "outputs": []
    }
  ]
}