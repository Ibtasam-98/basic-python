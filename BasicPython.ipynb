{
  "nbformat": 4,
  "nbformat_minor": 0,
  "metadata": {
    "colab": {
      "provenance": [],
      "toc_visible": true,
      "authorship_tag": "ABX9TyNv5I4ARCA11Sgn5RkevabW",
      "include_colab_link": true
    },
    "kernelspec": {
      "name": "python3",
      "display_name": "Python 3"
    },
    "language_info": {
      "name": "python"
    }
  },
  "cells": [
    {
      "cell_type": "markdown",
      "metadata": {
        "id": "view-in-github",
        "colab_type": "text"
      },
      "source": [
        "<a href=\"https://colab.research.google.com/github/Ibtasam-98/basic-python/blob/main/BasicPython.ipynb\" target=\"_parent\"><img src=\"https://colab.research.google.com/assets/colab-badge.svg\" alt=\"Open In Colab\"/></a>"
      ]
    },
    {
      "cell_type": "markdown",
      "source": [
        "# Variables and Integers"
      ],
      "metadata": {
        "id": "GoqyEpcQ3X69"
      }
    },
    {
      "cell_type": "code",
      "execution_count": null,
      "metadata": {
        "colab": {
          "base_uri": "https://localhost:8080/"
        },
        "id": "t7RRoaoP3NnH",
        "outputId": "a515e900-08a6-4a6f-bcdf-cecc764d29e3"
      },
      "outputs": [
        {
          "output_type": "stream",
          "name": "stdout",
          "text": [
            "<class 'int'>\n",
            "<class 'float'>\n",
            "<class 'str'>\n",
            "<class 'bool'>\n"
          ]
        }
      ],
      "source": [
        "age = 40\n",
        "price = 2.0\n",
        "name = \"Ibtasam\"\n",
        "is_student = True\n",
        "print(type(age))\n",
        "print(type(price))\n",
        "print(type(name))\n",
        "print(type(is_student))\n"
      ]
    },
    {
      "cell_type": "markdown",
      "source": [
        "# Operators"
      ],
      "metadata": {
        "id": "z19DxBBL3_os"
      }
    },
    {
      "cell_type": "code",
      "source": [
        "x = 5\n",
        "y = 5\n",
        "print(\"Addition : \",x+y)\n",
        "print(\"Subtraction : \",x-y)\n",
        "print(\"Divison : \",x/y)\n",
        "print(\"Multiplication : \",x*y)\n",
        "print(\"Modulus : \",x ** y)\n",
        "print(\"Exponentiation : \",x % y)\n",
        "\n",
        "# Comparison operator\n",
        "if x == y:\n",
        "  print(\"x and y are equal\")\n",
        "else:\n",
        "  print(\"x and y are not equal\")\n",
        "\n"
      ],
      "metadata": {
        "colab": {
          "base_uri": "https://localhost:8080/"
        },
        "id": "Cvv7liHN3bN4",
        "outputId": "f917afd5-68f0-4009-da91-1ded1e55e67d"
      },
      "execution_count": null,
      "outputs": [
        {
          "output_type": "stream",
          "name": "stdout",
          "text": [
            "Addition :  10\n",
            "Subtraction :  0\n",
            "Divison :  1.0\n",
            "Multiplication :  25\n",
            "Modulus :  3125\n",
            "Exponentiation :  0\n",
            "x and y are equal\n"
          ]
        }
      ]
    },
    {
      "cell_type": "markdown",
      "source": [
        "# Array"
      ],
      "metadata": {
        "id": "3tVNg_xW41qw"
      }
    },
    {
      "cell_type": "code",
      "source": [
        "\n",
        "fruits = [\"Apple\", \"Banana\", \"Orange\"]\n",
        "print(f\"Original Array : {fruits}\")\n",
        "print(f\"Fruit at 1st Array : {fruits[0]}\")\n",
        "\n",
        "# Modifying elements\n",
        "fruits[1] = \"Cherry\"\n",
        "print(f\"Modified list: {fruits}\")\n",
        "\n",
        "# Append element in Array\n",
        "fruits.append(\"Peach\")\n",
        "print(f\"After Append :{fruits}\")\n",
        "\n",
        "# Remove element from Array\n",
        "fruits.remove(\"Apple\")\n",
        "print(f\"After removing: {fruits}\")\n",
        "\n",
        "\n",
        "# Slicing of Array\n",
        "arr = [1,2,3,4,5]\n",
        "print(f\"slice from Index 1 to 3 :{arr[1:4]}\")\n",
        "print(f\"slice from begining :{arr[:2]}\")\n",
        "print(f\"slice from end :{arr[2:]}\")\n",
        "\n",
        "\n",
        "\n",
        "\n",
        "\n"
      ],
      "metadata": {
        "colab": {
          "base_uri": "https://localhost:8080/"
        },
        "id": "gDhQKRDO45a2",
        "outputId": "e41af12e-20f1-47dc-b8f0-ba6e6f8f8578"
      },
      "execution_count": null,
      "outputs": [
        {
          "output_type": "stream",
          "name": "stdout",
          "text": [
            "Original Array : ['Apple', 'Banana', 'Orange']\n",
            "Fruit at 1st Array : Apple\n",
            "Modified list: ['Apple', 'Cherry', 'Orange']\n",
            "After Append :['Apple', 'Cherry', 'Orange', 'Peach']\n",
            "After removing: ['Cherry', 'Orange', 'Peach']\n",
            "slice from Index 1 to 3 :[2, 3, 4]\n",
            "slice from begining :[1, 2]\n",
            "slice from end :[3, 4, 5]\n"
          ]
        }
      ]
    },
    {
      "cell_type": "markdown",
      "source": [
        "# Dictionaries"
      ],
      "metadata": {
        "id": "DIhqMOpC7lw3"
      }
    },
    {
      "cell_type": "code",
      "source": [
        "person = {\n",
        "    \"name\": \"Bob\",\n",
        "    \"age\": 25,\n",
        "    \"city\": \"New York\"\n",
        "}\n",
        "print(person)\n",
        "\n",
        "\n",
        "# Accesing specific value\n",
        "print(f\"Specific age , {person['age']}\")\n",
        "\n",
        "person['age'] = 40\n",
        "print(f\"Add new age , {person['age']}\")\n",
        "\n",
        "\n",
        "# Add new key value pair\n",
        "person['occupation'] = \"Engineer\"\n",
        "print(person)\n",
        "\n",
        "# Iterating through key\n",
        "print(\"Keys:\\n\")\n",
        "for key in person:\n",
        "  print(person[key])\n",
        "\n",
        "print(\"Values:\\n\")\n",
        "for value in person:\n",
        "  print(person[value])\n",
        "\n",
        "print(\"Key value pair\\n\")\n",
        "for key, value in person.items():\n",
        "  print(f\"{key}, {value}\")\n",
        "\n",
        "\n",
        "\n",
        "\n"
      ],
      "metadata": {
        "colab": {
          "base_uri": "https://localhost:8080/"
        },
        "id": "U5emYl0C7rdL",
        "outputId": "177e00e2-95e3-4c33-f700-982f56f4e75a"
      },
      "execution_count": null,
      "outputs": [
        {
          "output_type": "stream",
          "name": "stdout",
          "text": [
            "{'name': 'Bob', 'age': 25, 'city': 'New York'}\n",
            "Specific age , 25\n",
            "Add new age , 40\n",
            "{'name': 'Bob', 'age': 40, 'city': 'New York', 'occupation': 'Engineer'}\n",
            "Keys:\n",
            "\n",
            "Bob\n",
            "40\n",
            "New York\n",
            "Engineer\n",
            "Values:\n",
            "\n",
            "Bob\n",
            "40\n",
            "New York\n",
            "Engineer\n",
            "Key value pair\n",
            "\n",
            "name, Bob\n",
            "age, 40\n",
            "city, New York\n",
            "occupation, Engineer\n"
          ]
        }
      ]
    },
    {
      "cell_type": "markdown",
      "source": [
        "# Control Flow"
      ],
      "metadata": {
        "id": "4G2NX4J59dS3"
      }
    },
    {
      "cell_type": "code",
      "source": [
        "score = 50\n",
        "\n",
        "if score >= 80:\n",
        "  print(\"Grade A\")\n",
        "elif score >= 60:\n",
        "  print(\"Grade B\")\n",
        "elif score >= 50:\n",
        "  print(\"Grade C\")\n",
        "elif score >= 45:\n",
        "  print(\"Fail\")\n",
        "\n"
      ],
      "metadata": {
        "colab": {
          "base_uri": "https://localhost:8080/"
        },
        "id": "o2EP4B4K9fBU",
        "outputId": "5aa70fd2-8502-480b-fc39-dbe2fc897b38"
      },
      "execution_count": null,
      "outputs": [
        {
          "output_type": "stream",
          "name": "stdout",
          "text": [
            "Grade C\n"
          ]
        }
      ]
    },
    {
      "cell_type": "markdown",
      "source": [
        "# Loops"
      ],
      "metadata": {
        "id": "pazb82Pq-QTf"
      }
    },
    {
      "cell_type": "code",
      "source": [
        "colors = [\"red\", \"green\", \"blue\"]\n",
        "\n",
        "for colors in colors:\n",
        "  print(colors)\n",
        "\n",
        "# Iterating by using range\n",
        "for i in range(5):\n",
        "  print(i)\n",
        "\n",
        "\n",
        "# While loop\n",
        "count = 0\n",
        "while count < 5:\n",
        "  print(count)\n",
        "  count += 1\n",
        "\n"
      ],
      "metadata": {
        "colab": {
          "base_uri": "https://localhost:8080/"
        },
        "id": "XMBuZuU--Tgu",
        "outputId": "f08db525-c3fa-44ac-957d-0371fd0a49db"
      },
      "execution_count": null,
      "outputs": [
        {
          "output_type": "stream",
          "name": "stdout",
          "text": [
            "red\n",
            "green\n",
            "blue\n",
            "0\n",
            "1\n",
            "2\n",
            "3\n",
            "4\n",
            "0\n",
            "1\n",
            "2\n",
            "3\n",
            "4\n"
          ]
        }
      ]
    },
    {
      "cell_type": "markdown",
      "source": [
        "# Functions"
      ],
      "metadata": {
        "id": "4ieLpJNXAbWJ"
      }
    },
    {
      "cell_type": "code",
      "source": [
        "def greet(name):\n",
        "  print(f\"Hello {name}\"\n",
        "greet(\"Ibtasam\")\n",
        "\n",
        "\n",
        "def multiply(a,b):\n",
        "  return a * b\n",
        "print(f\"Multiply : {multiply(2,2)}\")\n",
        "\n",
        "def power(base, expo):\n",
        "  return base ** expo\n",
        "\n",
        "print(f\"2 to the Power 1 =  {power(2,1)}\")\n",
        "print(f\"5 to the Power 5 =  {power(5,5)}\")\n",
        "\n"
      ],
      "metadata": {
        "colab": {
          "base_uri": "https://localhost:8080/"
        },
        "id": "vyYwjUckAwiu",
        "outputId": "242a2414-c7b1-47b9-d02f-50568cad26a2"
      },
      "execution_count": null,
      "outputs": [
        {
          "output_type": "stream",
          "name": "stdout",
          "text": [
            "Hello Ibtasam\n",
            "Multiply : 4\n",
            "2 to the Power 1 =  2\n",
            "5 to the Power 5 =  3125\n"
          ]
        }
      ]
    },
    {
      "cell_type": "markdown",
      "source": [
        "# Exercise Question"
      ],
      "metadata": {
        "id": "M-36FcMOyn-M"
      }
    },
    {
      "cell_type": "markdown",
      "source": [
        "Write a Python program that simulates a simple shopping list application. The program should allow the user to:\n",
        "\n",
        "1. Add items to their shopping list.\n",
        "2. View their current shopping list.\n",
        "3. Mark an item as \"purchased\" (this should update the item in the list, perhaps by appending \"(Purchased)\" to its name).\n",
        "4. Exit the program.\n",
        "\n",
        "The program should use a loop to keep presenting the menu until the user chooses to exit. Use an `if-else` (or `if-elif-else`) structure to handle the different menu choices. Store the shopping list items in a Python list."
      ],
      "metadata": {
        "id": "dovaOffTyqT7"
      }
    },
    {
      "cell_type": "code",
      "source": [
        "shopping_list = []\n",
        "\n",
        "def add_item():\n",
        "    item = input(\"Enter the item you want to add: \")\n",
        "    shopping_list.append(item)\n",
        "    print(f\"'{item}' has been added to your shopping list.\")\n",
        "\n",
        "def view_list():\n",
        "    if not shopping_list:\n",
        "        print(\"Your shopping list is empty.\")\n",
        "    else:\n",
        "        print(\"\\n--- Your Shopping List ---\")\n",
        "        for i, item in enumerate(shopping_list):\n",
        "            print(f\"{i + 1}. {item}\")\n",
        "        print(\"--------------------------\")\n",
        "\n",
        "def mark_purchased():\n",
        "    view_list() # Show the list so the user knows what to choose\n",
        "    if not shopping_list:\n",
        "        return # Exit if list is empty\n",
        "\n",
        "    try:\n",
        "        item_index = int(input(\"Enter the number of the item you want to mark as purchased: \")) - 1\n",
        "        if 0 <= item_index < len(shopping_list):\n",
        "            if \"(Purchased)\" not in shopping_list[item_index]:\n",
        "                shopping_list[item_index] += \" (Purchased)\"\n",
        "                print(\"Item marked as purchased!\")\n",
        "            else:\n",
        "                print(\"This item is already marked as purchased.\")\n",
        "        else:\n",
        "            print(\"Invalid item number.\")\n",
        "    except ValueError:\n",
        "        print(\"Invalid input. Please enter a number.\")\n",
        "\n",
        "while True:\n",
        "    print(\"\\n--- Shopping List Menu ---\")\n",
        "    print(\"1. Add item\")\n",
        "    print(\"2. View shopping list\")\n",
        "    print(\"3. Mark item as purchased\")\n",
        "    print(\"4. Exit\")\n",
        "    print(\"--------------------------\")\n",
        "\n",
        "    choice = input(\"Enter your choice (1-4): \")\n",
        "\n",
        "    if choice == '1':\n",
        "        add_item()\n",
        "    elif choice == '2':\n",
        "        view_list()\n",
        "    elif choice == '3':\n",
        "        mark_purchased()\n",
        "    elif choice == '4':\n",
        "        print(\"Exiting shopping list application. Happy shopping!\")\n",
        "        break\n",
        "    else:\n",
        "        print(\"Invalid choice. Please enter a number between 1 and 4.\")"
      ],
      "metadata": {
        "colab": {
          "base_uri": "https://localhost:8080/"
        },
        "id": "HUSi3SUGytB3",
        "outputId": "3309d6a5-d5ac-4073-bd58-dbabad05aa0e"
      },
      "execution_count": 19,
      "outputs": [
        {
          "output_type": "stream",
          "name": "stdout",
          "text": [
            "\n",
            "--- Shopping List Menu ---\n",
            "1. Add item\n",
            "2. View shopping list\n",
            "3. Mark item as purchased\n",
            "4. Exit\n",
            "--------------------------\n",
            "Enter your choice (1-4): 1\n",
            "Enter the item you want to add: a\n",
            "'a' has been added to your shopping list.\n",
            "\n",
            "--- Shopping List Menu ---\n",
            "1. Add item\n",
            "2. View shopping list\n",
            "3. Mark item as purchased\n",
            "4. Exit\n",
            "--------------------------\n",
            "Enter your choice (1-4): 1\n",
            "Enter the item you want to add: b\n",
            "'b' has been added to your shopping list.\n",
            "\n",
            "--- Shopping List Menu ---\n",
            "1. Add item\n",
            "2. View shopping list\n",
            "3. Mark item as purchased\n",
            "4. Exit\n",
            "--------------------------\n",
            "Enter your choice (1-4): 2\n",
            "\n",
            "--- Your Shopping List ---\n",
            "1. a\n",
            "2. b\n",
            "--------------------------\n",
            "\n",
            "--- Shopping List Menu ---\n",
            "1. Add item\n",
            "2. View shopping list\n",
            "3. Mark item as purchased\n",
            "4. Exit\n",
            "--------------------------\n",
            "Enter your choice (1-4): 3\n",
            "\n",
            "--- Your Shopping List ---\n",
            "1. a\n",
            "2. b\n",
            "--------------------------\n",
            "Enter the number of the item you want to mark as purchased: b\n",
            "Invalid input. Please enter a number.\n",
            "\n",
            "--- Shopping List Menu ---\n",
            "1. Add item\n",
            "2. View shopping list\n",
            "3. Mark item as purchased\n",
            "4. Exit\n",
            "--------------------------\n",
            "Enter your choice (1-4): 4\n",
            "Exiting shopping list application. Happy shopping!\n"
          ]
        }
      ]
    },
    {
      "cell_type": "code",
      "source": [],
      "metadata": {
        "id": "wn8UdoAN1b5O"
      },
      "execution_count": null,
      "outputs": []
    }
  ]
}